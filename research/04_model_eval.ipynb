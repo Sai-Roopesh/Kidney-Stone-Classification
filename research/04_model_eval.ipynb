{
 "cells": [
  {
   "cell_type": "code",
   "id": "initial_id",
   "metadata": {
    "collapsed": true,
    "ExecuteTime": {
     "end_time": "2024-07-19T08:50:32.324376Z",
     "start_time": "2024-07-19T08:50:32.321461Z"
    }
   },
   "source": "import os",
   "outputs": [],
   "execution_count": 1
  },
  {
   "metadata": {
    "ExecuteTime": {
     "end_time": "2024-07-19T08:50:32.342292Z",
     "start_time": "2024-07-19T08:50:32.338666Z"
    }
   },
   "cell_type": "code",
   "source": "%pwd",
   "id": "dedb9ff6feef1d03",
   "outputs": [
    {
     "data": {
      "text/plain": [
       "'/Users/sairoopesh/Documents/projects/KidneyDiseaseClassification/research'"
      ]
     },
     "execution_count": 2,
     "metadata": {},
     "output_type": "execute_result"
    }
   ],
   "execution_count": 2
  },
  {
   "metadata": {
    "ExecuteTime": {
     "end_time": "2024-07-19T08:50:45.628749Z",
     "start_time": "2024-07-19T08:50:45.623348Z"
    }
   },
   "cell_type": "code",
   "source": "os.chdir(\"../\")",
   "id": "af9fcac545336d68",
   "outputs": [],
   "execution_count": 3
  },
  {
   "metadata": {
    "ExecuteTime": {
     "end_time": "2024-07-19T08:50:50.597292Z",
     "start_time": "2024-07-19T08:50:50.591568Z"
    }
   },
   "cell_type": "code",
   "source": "%pwd",
   "id": "ff28fac132591534",
   "outputs": [
    {
     "data": {
      "text/plain": [
       "'/Users/sairoopesh/Documents/projects/KidneyDiseaseClassification'"
      ]
     },
     "execution_count": 4,
     "metadata": {},
     "output_type": "execute_result"
    }
   ],
   "execution_count": 4
  },
  {
   "metadata": {
    "ExecuteTime": {
     "end_time": "2024-07-19T11:13:57.986482Z",
     "start_time": "2024-07-19T11:13:57.981100Z"
    }
   },
   "cell_type": "code",
   "source": "os.environ[\"MLFLOW_TRACKING_URI\"] = \"https://dagshub.com/Sai-Roopesh/Kidney-Stone-Classification.mlflow\"\n",
   "id": "2f5323c626824deb",
   "outputs": [],
   "execution_count": 8
  },
  {
   "metadata": {
    "ExecuteTime": {
     "end_time": "2024-07-19T11:14:20.075108Z",
     "start_time": "2024-07-19T11:14:13.106997Z"
    }
   },
   "cell_type": "code",
   "source": "!pip install dagshub",
   "id": "fdf3d88b0468a1d2",
   "outputs": [
    {
     "name": "stdout",
     "output_type": "stream",
     "text": [
      "Collecting dagshub\r\n",
      "  Using cached dagshub-0.3.31-py3-none-any.whl.metadata (11 kB)\r\n",
      "Requirement already satisfied: PyYAML>=5 in /opt/anaconda3/lib/python3.12/site-packages (from dagshub) (6.0.1)\r\n",
      "Collecting fusepy>=3 (from dagshub)\r\n",
      "  Using cached fusepy-3.0.1.tar.gz (11 kB)\r\n",
      "  Preparing metadata (setup.py) ... \u001B[?25ldone\r\n",
      "\u001B[?25hRequirement already satisfied: appdirs>=1.4.4 in /opt/anaconda3/lib/python3.12/site-packages (from dagshub) (1.4.4)\r\n",
      "Requirement already satisfied: click>=8.0.4 in /opt/anaconda3/lib/python3.12/site-packages (from dagshub) (8.1.7)\r\n",
      "Collecting httpx~=0.23.0 (from dagshub)\r\n",
      "  Using cached httpx-0.23.3-py3-none-any.whl.metadata (7.1 kB)\r\n",
      "Requirement already satisfied: GitPython>=3.1.29 in /opt/anaconda3/lib/python3.12/site-packages (from dagshub) (3.1.37)\r\n",
      "Collecting rich~=13.1.0 (from dagshub)\r\n",
      "  Using cached rich-13.1.0-py3-none-any.whl.metadata (18 kB)\r\n",
      "Collecting dacite~=1.6.0 (from dagshub)\r\n",
      "  Using cached dacite-1.6.0-py3-none-any.whl.metadata (14 kB)\r\n",
      "Requirement already satisfied: tenacity~=8.2.2 in /opt/anaconda3/lib/python3.12/site-packages (from dagshub) (8.2.2)\r\n",
      "Collecting gql[requests] (from dagshub)\r\n",
      "  Using cached gql-3.5.0-py2.py3-none-any.whl.metadata (9.2 kB)\r\n",
      "Collecting dataclasses-json (from dagshub)\r\n",
      "  Using cached dataclasses_json-0.6.7-py3-none-any.whl.metadata (25 kB)\r\n",
      "Requirement already satisfied: pandas in /opt/anaconda3/lib/python3.12/site-packages (from dagshub) (2.2.2)\r\n",
      "Collecting treelib~=1.6.4 (from dagshub)\r\n",
      "  Using cached treelib-1.6.4-py3-none-any.whl.metadata (1.4 kB)\r\n",
      "Collecting pathvalidate~=3.0.0 (from dagshub)\r\n",
      "  Using cached pathvalidate-3.0.0-py3-none-any.whl.metadata (11 kB)\r\n",
      "Requirement already satisfied: python-dateutil in /opt/anaconda3/lib/python3.12/site-packages (from dagshub) (2.9.0.post0)\r\n",
      "Collecting tenacity~=8.2.2 (from dagshub)\r\n",
      "  Using cached tenacity-8.2.3-py3-none-any.whl.metadata (1.0 kB)\r\n",
      "Collecting boto3 (from dagshub)\r\n",
      "  Using cached boto3-1.34.145-py3-none-any.whl.metadata (6.6 kB)\r\n",
      "Requirement already satisfied: gitdb<5,>=4.0.1 in /opt/anaconda3/lib/python3.12/site-packages (from GitPython>=3.1.29->dagshub) (4.0.7)\r\n",
      "Requirement already satisfied: certifi in /opt/anaconda3/lib/python3.12/site-packages (from httpx~=0.23.0->dagshub) (2024.7.4)\r\n",
      "Collecting httpcore<0.17.0,>=0.15.0 (from httpx~=0.23.0->dagshub)\r\n",
      "  Using cached httpcore-0.16.3-py3-none-any.whl.metadata (16 kB)\r\n",
      "Collecting rfc3986<2,>=1.3 (from rfc3986[idna2008]<2,>=1.3->httpx~=0.23.0->dagshub)\r\n",
      "  Using cached rfc3986-1.5.0-py2.py3-none-any.whl.metadata (6.5 kB)\r\n",
      "Requirement already satisfied: sniffio in /opt/anaconda3/lib/python3.12/site-packages (from httpx~=0.23.0->dagshub) (1.3.0)\r\n",
      "Collecting commonmark<0.10.0,>=0.9.0 (from rich~=13.1.0->dagshub)\r\n",
      "  Using cached commonmark-0.9.1-py2.py3-none-any.whl.metadata (5.7 kB)\r\n",
      "Requirement already satisfied: pygments<3.0.0,>=2.6.0 in /opt/anaconda3/lib/python3.12/site-packages (from rich~=13.1.0->dagshub) (2.15.1)\r\n",
      "Requirement already satisfied: six in /opt/anaconda3/lib/python3.12/site-packages (from treelib~=1.6.4->dagshub) (1.16.0)\r\n",
      "Collecting botocore<1.35.0,>=1.34.145 (from boto3->dagshub)\r\n",
      "  Using cached botocore-1.34.145-py3-none-any.whl.metadata (5.7 kB)\r\n",
      "Requirement already satisfied: jmespath<2.0.0,>=0.7.1 in /opt/anaconda3/lib/python3.12/site-packages (from boto3->dagshub) (1.0.1)\r\n",
      "Collecting s3transfer<0.11.0,>=0.10.0 (from boto3->dagshub)\r\n",
      "  Using cached s3transfer-0.10.2-py3-none-any.whl.metadata (1.7 kB)\r\n",
      "Collecting marshmallow<4.0.0,>=3.18.0 (from dataclasses-json->dagshub)\r\n",
      "  Using cached marshmallow-3.21.3-py3-none-any.whl.metadata (7.1 kB)\r\n",
      "Collecting typing-inspect<1,>=0.4.0 (from dataclasses-json->dagshub)\r\n",
      "  Using cached typing_inspect-0.9.0-py3-none-any.whl.metadata (1.5 kB)\r\n",
      "Requirement already satisfied: graphql-core<3.3,>=3.2 in /opt/anaconda3/lib/python3.12/site-packages (from gql[requests]->dagshub) (3.2.3)\r\n",
      "Requirement already satisfied: yarl<2.0,>=1.6 in /opt/anaconda3/lib/python3.12/site-packages (from gql[requests]->dagshub) (1.9.3)\r\n",
      "Collecting backoff<3.0,>=1.11.1 (from gql[requests]->dagshub)\r\n",
      "  Using cached backoff-2.2.1-py3-none-any.whl.metadata (14 kB)\r\n",
      "Requirement already satisfied: anyio<5,>=3.0 in /opt/anaconda3/lib/python3.12/site-packages (from gql[requests]->dagshub) (4.2.0)\r\n",
      "Requirement already satisfied: requests<3,>=2.26 in /opt/anaconda3/lib/python3.12/site-packages (from gql[requests]->dagshub) (2.32.2)\r\n",
      "Requirement already satisfied: requests-toolbelt<2,>=1.0.0 in /opt/anaconda3/lib/python3.12/site-packages (from gql[requests]->dagshub) (1.0.0)\r\n",
      "Requirement already satisfied: numpy>=1.26.0 in /opt/anaconda3/lib/python3.12/site-packages (from pandas->dagshub) (1.26.4)\r\n",
      "Requirement already satisfied: pytz>=2020.1 in /opt/anaconda3/lib/python3.12/site-packages (from pandas->dagshub) (2024.1)\r\n",
      "Requirement already satisfied: tzdata>=2022.7 in /opt/anaconda3/lib/python3.12/site-packages (from pandas->dagshub) (2023.3)\r\n",
      "Requirement already satisfied: idna>=2.8 in /opt/anaconda3/lib/python3.12/site-packages (from anyio<5,>=3.0->gql[requests]->dagshub) (3.7)\r\n",
      "Requirement already satisfied: urllib3!=2.2.0,<3,>=1.25.4 in /opt/anaconda3/lib/python3.12/site-packages (from botocore<1.35.0,>=1.34.145->boto3->dagshub) (2.2.2)\r\n",
      "Requirement already satisfied: smmap<5,>=3.0.1 in /opt/anaconda3/lib/python3.12/site-packages (from gitdb<5,>=4.0.1->GitPython>=3.1.29->dagshub) (4.0.0)\r\n",
      "Requirement already satisfied: h11<0.15,>=0.13 in /opt/anaconda3/lib/python3.12/site-packages (from httpcore<0.17.0,>=0.15.0->httpx~=0.23.0->dagshub) (0.14.0)\r\n",
      "Requirement already satisfied: packaging>=17.0 in /opt/anaconda3/lib/python3.12/site-packages (from marshmallow<4.0.0,>=3.18.0->dataclasses-json->dagshub) (23.2)\r\n",
      "Requirement already satisfied: charset-normalizer<4,>=2 in /opt/anaconda3/lib/python3.12/site-packages (from requests<3,>=2.26->gql[requests]->dagshub) (2.0.4)\r\n",
      "Requirement already satisfied: mypy-extensions>=0.3.0 in /opt/anaconda3/lib/python3.12/site-packages (from typing-inspect<1,>=0.4.0->dataclasses-json->dagshub) (1.0.0)\r\n",
      "Requirement already satisfied: typing-extensions>=3.7.4 in /opt/anaconda3/lib/python3.12/site-packages (from typing-inspect<1,>=0.4.0->dataclasses-json->dagshub) (4.11.0)\r\n",
      "Requirement already satisfied: multidict>=4.0 in /opt/anaconda3/lib/python3.12/site-packages (from yarl<2.0,>=1.6->gql[requests]->dagshub) (6.0.4)\r\n",
      "Using cached dagshub-0.3.31-py3-none-any.whl (236 kB)\r\n",
      "Using cached dacite-1.6.0-py3-none-any.whl (12 kB)\r\n",
      "Using cached httpx-0.23.3-py3-none-any.whl (71 kB)\r\n",
      "Using cached pathvalidate-3.0.0-py3-none-any.whl (21 kB)\r\n",
      "Using cached rich-13.1.0-py3-none-any.whl (238 kB)\r\n",
      "Using cached tenacity-8.2.3-py3-none-any.whl (24 kB)\r\n",
      "Using cached treelib-1.6.4-py3-none-any.whl (18 kB)\r\n",
      "Using cached boto3-1.34.145-py3-none-any.whl (139 kB)\r\n",
      "Using cached dataclasses_json-0.6.7-py3-none-any.whl (28 kB)\r\n",
      "Using cached backoff-2.2.1-py3-none-any.whl (15 kB)\r\n",
      "Using cached botocore-1.34.145-py3-none-any.whl (12.4 MB)\r\n",
      "Using cached commonmark-0.9.1-py2.py3-none-any.whl (51 kB)\r\n",
      "Using cached httpcore-0.16.3-py3-none-any.whl (69 kB)\r\n",
      "Using cached marshmallow-3.21.3-py3-none-any.whl (49 kB)\r\n",
      "Using cached rfc3986-1.5.0-py2.py3-none-any.whl (31 kB)\r\n",
      "Using cached s3transfer-0.10.2-py3-none-any.whl (82 kB)\r\n",
      "Using cached typing_inspect-0.9.0-py3-none-any.whl (8.8 kB)\r\n",
      "Using cached gql-3.5.0-py2.py3-none-any.whl (74 kB)\r\n",
      "Building wheels for collected packages: fusepy\r\n",
      "  Building wheel for fusepy (setup.py) ... \u001B[?25ldone\r\n",
      "\u001B[?25h  Created wheel for fusepy: filename=fusepy-3.0.1-py3-none-any.whl size=10487 sha256=79e39609cdf237c4af7d28f74da34719dc81f011f8418c4e7e1ece93590dfb7d\r\n",
      "  Stored in directory: /Users/sairoopesh/Library/Caches/pip/wheels/96/e4/a1/c2ff90a4d140b39eb2af34232c5fce1b59641e9da39d13ce75\r\n",
      "Successfully built fusepy\r\n",
      "Installing collected packages: rfc3986, fusepy, commonmark, typing-inspect, treelib, tenacity, rich, pathvalidate, marshmallow, dacite, backoff, httpcore, gql, dataclasses-json, botocore, s3transfer, httpx, boto3, dagshub\r\n",
      "  Attempting uninstall: tenacity\r\n",
      "    Found existing installation: tenacity 8.2.2\r\n",
      "    Uninstalling tenacity-8.2.2:\r\n",
      "      Successfully uninstalled tenacity-8.2.2\r\n",
      "  Attempting uninstall: rich\r\n",
      "    Found existing installation: rich 13.3.5\r\n",
      "    Uninstalling rich-13.3.5:\r\n",
      "      Successfully uninstalled rich-13.3.5\r\n",
      "  Attempting uninstall: httpcore\r\n",
      "    Found existing installation: httpcore 1.0.2\r\n",
      "    Uninstalling httpcore-1.0.2:\r\n",
      "      Successfully uninstalled httpcore-1.0.2\r\n",
      "  Attempting uninstall: botocore\r\n",
      "    Found existing installation: botocore 1.34.69\r\n",
      "    Uninstalling botocore-1.34.69:\r\n",
      "      Successfully uninstalled botocore-1.34.69\r\n",
      "  Attempting uninstall: httpx\r\n",
      "    Found existing installation: httpx 0.26.0\r\n",
      "    Uninstalling httpx-0.26.0:\r\n",
      "      Successfully uninstalled httpx-0.26.0\r\n",
      "\u001B[31mERROR: pip's dependency resolver does not currently take into account all the packages that are installed. This behaviour is the source of the following dependency conflicts.\r\n",
      "aiobotocore 2.12.3 requires botocore<1.34.70,>=1.34.41, but you have botocore 1.34.145 which is incompatible.\u001B[0m\u001B[31m\r\n",
      "\u001B[0mSuccessfully installed backoff-2.2.1 boto3-1.34.145 botocore-1.34.145 commonmark-0.9.1 dacite-1.6.0 dagshub-0.3.31 dataclasses-json-0.6.7 fusepy-3.0.1 gql-3.5.0 httpcore-0.16.3 httpx-0.23.3 marshmallow-3.21.3 pathvalidate-3.0.0 rfc3986-1.5.0 rich-13.1.0 s3transfer-0.10.2 tenacity-8.2.3 treelib-1.6.4 typing-inspect-0.9.0\r\n"
     ]
    }
   ],
   "execution_count": 10
  },
  {
   "metadata": {
    "ExecuteTime": {
     "end_time": "2024-07-19T11:14:34.630975Z",
     "start_time": "2024-07-19T11:14:22.502226Z"
    }
   },
   "cell_type": "code",
   "source": [
    "import dagshub\n",
    "dagshub.init(repo_owner='Sai-Roopesh', repo_name='Kidney-Stone-Classification', mlflow=True)\n",
    "\n",
    "import mlflow\n",
    "with mlflow.start_run():\n",
    "  mlflow.log_param('parameter name', 'value')\n",
    "  mlflow.log_metric('metric name', 1)"
   ],
   "id": "8b39e6f0e3fa8782",
   "outputs": [
    {
     "data": {
      "text/plain": [
       "                                       \u001B[1m❗❗❗ AUTHORIZATION REQUIRED ❗❗❗\u001B[0m                                        \n"
      ],
      "text/html": [
       "<pre style=\"white-space:pre;overflow-x:auto;line-height:normal;font-family:Menlo,'DejaVu Sans Mono',consolas,'Courier New',monospace\">                                       <span style=\"font-weight: bold\">❗❗❗ AUTHORIZATION REQUIRED ❗❗❗</span>                                        \n",
       "</pre>\n"
      ]
     },
     "metadata": {},
     "output_type": "display_data"
    },
    {
     "data": {
      "text/plain": [
       "Output()"
      ],
      "application/vnd.jupyter.widget-view+json": {
       "version_major": 2,
       "version_minor": 0,
       "model_id": "a629e258e1db4a6180ed96f9d9c6fb61"
      }
     },
     "metadata": {},
     "output_type": "display_data"
    },
    {
     "name": "stdout",
     "output_type": "stream",
     "text": [
      "\n",
      "\n",
      "Open the following link in your browser to authorize the client:\n",
      "https://dagshub.com/login/oauth/authorize?state=33435b87-e7ff-475d-9aa8-0decc353126e&client_id=32b60ba385aa7cecf24046d8195a71c07dd345d9657977863b52e7748e0f0f28&middleman_request_id=34aa6810908341d7752d2cf5d1bae92d35741dad53028157d95d9a3aab2143d3\n",
      "\n",
      "\n"
     ]
    },
    {
     "data": {
      "text/plain": [],
      "text/html": [
       "<pre style=\"white-space:pre;overflow-x:auto;line-height:normal;font-family:Menlo,'DejaVu Sans Mono',consolas,'Courier New',monospace\"></pre>\n"
      ]
     },
     "metadata": {},
     "output_type": "display_data"
    },
    {
     "data": {
      "text/plain": [
       "Accessing as Sai-Roopesh\n"
      ],
      "text/html": [
       "<pre style=\"white-space:pre;overflow-x:auto;line-height:normal;font-family:Menlo,'DejaVu Sans Mono',consolas,'Courier New',monospace\">Accessing as Sai-Roopesh\n",
       "</pre>\n"
      ]
     },
     "metadata": {},
     "output_type": "display_data"
    },
    {
     "data": {
      "text/plain": [
       "Initialized MLflow to track repo \u001B[32m\"Sai-Roopesh/Kidney-Stone-Classification\"\u001B[0m\n"
      ],
      "text/html": [
       "<pre style=\"white-space:pre;overflow-x:auto;line-height:normal;font-family:Menlo,'DejaVu Sans Mono',consolas,'Courier New',monospace\">Initialized MLflow to track repo <span style=\"color: #008000; text-decoration-color: #008000\">\"Sai-Roopesh/Kidney-Stone-Classification\"</span>\n",
       "</pre>\n"
      ]
     },
     "metadata": {},
     "output_type": "display_data"
    },
    {
     "data": {
      "text/plain": [
       "Repository Sai-Roopesh/Kidney-Stone-Classification initialized!\n"
      ],
      "text/html": [
       "<pre style=\"white-space:pre;overflow-x:auto;line-height:normal;font-family:Menlo,'DejaVu Sans Mono',consolas,'Courier New',monospace\">Repository Sai-Roopesh/Kidney-Stone-Classification initialized!\n",
       "</pre>\n"
      ]
     },
     "metadata": {},
     "output_type": "display_data"
    }
   ],
   "execution_count": 11
  },
  {
   "metadata": {},
   "cell_type": "code",
   "outputs": [],
   "execution_count": null,
   "source": "",
   "id": "1129bc018d41d115"
  }
 ],
 "metadata": {
  "kernelspec": {
   "display_name": "Python 3",
   "language": "python",
   "name": "python3"
  },
  "language_info": {
   "codemirror_mode": {
    "name": "ipython",
    "version": 2
   },
   "file_extension": ".py",
   "mimetype": "text/x-python",
   "name": "python",
   "nbconvert_exporter": "python",
   "pygments_lexer": "ipython2",
   "version": "2.7.6"
  }
 },
 "nbformat": 4,
 "nbformat_minor": 5
}
